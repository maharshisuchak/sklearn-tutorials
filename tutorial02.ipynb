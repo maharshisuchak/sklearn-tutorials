{
 "cells": [
  {
   "cell_type": "markdown",
   "metadata": {},
   "source": [
    "# Tutorial 02\n",
    "## In this Tutorial we will learn to read a specific entry from all the HTML files we have parsed from Yahoo"
   ]
  },
  {
   "cell_type": "code",
   "execution_count": null,
   "metadata": {},
   "outputs": [],
   "source": [
    "import pandas as pd\n",
    "import os\n",
    "import time\n",
    "from datetime import datetime"
   ]
  },
  {
   "cell_type": "code",
   "execution_count": 77,
   "metadata": {},
   "outputs": [],
   "source": [
    "path = \"/Users/happythoughts/Downloads/intraQuarter\""
   ]
  },
  {
   "cell_type": "code",
   "execution_count": 107,
   "metadata": {},
   "outputs": [],
   "source": [
    "# Create and define a function - Key_Stats, Value is the name taken that need from the files that are being used as datasets\n",
    "def Key_Stats(gather=\"Total Debt/Equity (mrq)\"): \n",
    "    \n",
    "    # To reach the _KeyStats files in the directory at selected path\n",
    "    statspath = path+'/_KeyStats' \n",
    "    \n",
    "    # This will read and store all the folders to 1 level inside _KeyStats and store in Stocks_list\n",
    "    stocks_list = [x[0] for x in os.walk(statspath)] \n",
    "    return stocks_list\n",
    "stocks_list=Key_Stats() # To define the stocks_list variable which is to be used below"
   ]
  },
  {
   "cell_type": "code",
   "execution_count": 108,
   "metadata": {},
   "outputs": [
    {
     "name": "stdout",
     "output_type": "stream",
     "text": [
      "/Users/happythoughts/Downloads/intraQuarter/_KeyStats/ctas/20070711055928.html\n"
     ]
    },
    {
     "ename": "NameError",
     "evalue": "name 'gather' is not defined",
     "output_type": "error",
     "traceback": [
      "\u001b[0;31m---------------------------------------------------------------------------\u001b[0m",
      "\u001b[0;31mNameError\u001b[0m                                 Traceback (most recent call last)",
      "\u001b[0;32m<ipython-input-108-bf674a360a6b>\u001b[0m in \u001b[0;36m<module>\u001b[0;34m()\u001b[0m\n\u001b[1;32m     12\u001b[0m             \u001b[0msource\u001b[0m \u001b[0;34m=\u001b[0m \u001b[0mopen\u001b[0m\u001b[0;34m(\u001b[0m\u001b[0mfull_file_path\u001b[0m\u001b[0;34m,\u001b[0m\u001b[0;34m'r'\u001b[0m\u001b[0;34m)\u001b[0m\u001b[0;34m.\u001b[0m\u001b[0mread\u001b[0m\u001b[0;34m(\u001b[0m\u001b[0;34m)\u001b[0m\u001b[0;34m\u001b[0m\u001b[0m\n\u001b[1;32m     13\u001b[0m \u001b[0;31m#                 print(source)\u001b[0m\u001b[0;34m\u001b[0m\u001b[0;34m\u001b[0m\u001b[0m\n\u001b[0;32m---> 14\u001b[0;31m             \u001b[0mvalue\u001b[0m \u001b[0;34m=\u001b[0m \u001b[0msource\u001b[0m\u001b[0;34m.\u001b[0m\u001b[0msplit\u001b[0m\u001b[0;34m(\u001b[0m\u001b[0mgather\u001b[0m\u001b[0;34m+\u001b[0m\u001b[0;34m':</td><td class=\"yfnc_tabledata1\">'\u001b[0m\u001b[0;34m)\u001b[0m\u001b[0;34m[\u001b[0m\u001b[0;36m1\u001b[0m\u001b[0;34m]\u001b[0m\u001b[0;34m.\u001b[0m\u001b[0msplit\u001b[0m\u001b[0;34m(\u001b[0m\u001b[0;34m'</td>'\u001b[0m\u001b[0;34m)\u001b[0m\u001b[0;34m[\u001b[0m\u001b[0;36m0\u001b[0m\u001b[0;34m]\u001b[0m\u001b[0;34m\u001b[0m\u001b[0m\n\u001b[0m\u001b[1;32m     15\u001b[0m             \u001b[0mprint\u001b[0m\u001b[0;34m(\u001b[0m\u001b[0mticker\u001b[0m\u001b[0;34m+\u001b[0m\u001b[0;34m\":\"\u001b[0m\u001b[0;34m,\u001b[0m\u001b[0mvalue\u001b[0m\u001b[0;34m)\u001b[0m\u001b[0;34m\u001b[0m\u001b[0m\n\u001b[1;32m     16\u001b[0m             \u001b[0mtime\u001b[0m\u001b[0;34m.\u001b[0m\u001b[0msleep\u001b[0m\u001b[0;34m(\u001b[0m\u001b[0;36m5\u001b[0m\u001b[0;34m)\u001b[0m\u001b[0;34m\u001b[0m\u001b[0m\n",
      "\u001b[0;31mNameError\u001b[0m: name 'gather' is not defined"
     ]
    }
   ],
   "source": [
    "for each_dir in stocks_list[1:]:\n",
    "    each_file = os.listdir(each_dir) # Check each file in all the directories inside stocks_list\n",
    "    ticker = each_dir.split(\"\\\\\")[-1]\n",
    "    if len(each_file) > 0:\n",
    "        for file in each_file: # Below is the logic to convert the unix timestamp (used as file names in directories), to date timestamps\n",
    "\n",
    "            date_stamp = datetime.strptime(file, '%Y%m%d%H%M%S.html') # This is to define the datetime format as the name of the file in the directory.\n",
    "            unix_time = time.mktime(date_stamp.timetuple()) # Defines the unix_time format.\n",
    "#                 print(date_stamp, unix_time)\n",
    "            full_file_path = each_dir+'/'+file\n",
    "            print(full_file_path)\n",
    "            source = open(full_file_path,'r').read()\n",
    "#                 print(source)\n",
    "            value = source.split(gather+':</td><td class=\"yfnc_tabledata1\">')[1].split('</td>')[0]\n",
    "            print(ticker+\":\",value)\n",
    "            time.sleep(5)\n",
    "Key_Stats()\n",
    "\n",
    "\n",
    "#         ticker = each_dir.split(\"/\")[1]\n",
    "#         \n",
    "#                 \n",
    "#                     \n",
    "#                     \n",
    "#                     \n",
    "# #                     \n",
    "#                     value = source.split(gather+':</td><td class=\"yfnc_tabledata1\">')[1].split('</td>')[0]\n",
    "#                     print(ticker+\":\",value)\n",
    "#                     time.sleep(2) # This is to run the loop after every 15 seconds\n",
    "\n"
   ]
  },
  {
   "cell_type": "markdown",
   "metadata": {},
   "source": [
    "### Working Code"
   ]
  },
  {
   "cell_type": "code",
   "execution_count": 125,
   "metadata": {},
   "outputs": [
    {
     "name": "stdout",
     "output_type": "stream",
     "text": [
      "/Users/happythoughts/Downloads/intraQuarter/_KeyStats/ctas/20070711055928.html\n",
      "ctas: 0.43\n",
      "/Users/happythoughts/Downloads/intraQuarter/_KeyStats/ctas/20060228203859.html\n",
      "ctas: 0.216\n",
      "/Users/happythoughts/Downloads/intraQuarter/_KeyStats/ctas/20050420153844.html\n",
      "ctas: 0.227\n",
      "/Users/happythoughts/Downloads/intraQuarter/_KeyStats/ctas/20050222130243.html\n",
      "ctas: 0.231\n"
     ]
    },
    {
     "ename": "KeyboardInterrupt",
     "evalue": "",
     "output_type": "error",
     "traceback": [
      "\u001b[0;31m---------------------------------------------------------------------------\u001b[0m",
      "\u001b[0;31mKeyboardInterrupt\u001b[0m                         Traceback (most recent call last)",
      "\u001b[0;32m<ipython-input-125-832aea56c17e>\u001b[0m in \u001b[0;36m<module>\u001b[0;34m()\u001b[0m\n\u001b[1;32m     49\u001b[0m                 \u001b[0;31m# To put the code in sleep mode before running the loop.\u001b[0m\u001b[0;34m\u001b[0m\u001b[0;34m\u001b[0m\u001b[0m\n\u001b[1;32m     50\u001b[0m                 \u001b[0mtime\u001b[0m\u001b[0;34m.\u001b[0m\u001b[0msleep\u001b[0m\u001b[0;34m(\u001b[0m\u001b[0;36m5\u001b[0m\u001b[0;34m)\u001b[0m\u001b[0;34m\u001b[0m\u001b[0m\n\u001b[0;32m---> 51\u001b[0;31m \u001b[0mKey_Stats\u001b[0m\u001b[0;34m(\u001b[0m\u001b[0;34m)\u001b[0m\u001b[0;34m\u001b[0m\u001b[0m\n\u001b[0m",
      "\u001b[0;32m<ipython-input-125-832aea56c17e>\u001b[0m in \u001b[0;36mKey_Stats\u001b[0;34m(gather)\u001b[0m\n\u001b[1;32m     48\u001b[0m \u001b[0;34m\u001b[0m\u001b[0m\n\u001b[1;32m     49\u001b[0m                 \u001b[0;31m# To put the code in sleep mode before running the loop.\u001b[0m\u001b[0;34m\u001b[0m\u001b[0;34m\u001b[0m\u001b[0m\n\u001b[0;32m---> 50\u001b[0;31m                 \u001b[0mtime\u001b[0m\u001b[0;34m.\u001b[0m\u001b[0msleep\u001b[0m\u001b[0;34m(\u001b[0m\u001b[0;36m5\u001b[0m\u001b[0;34m)\u001b[0m\u001b[0;34m\u001b[0m\u001b[0m\n\u001b[0m\u001b[1;32m     51\u001b[0m \u001b[0mKey_Stats\u001b[0m\u001b[0;34m(\u001b[0m\u001b[0;34m)\u001b[0m\u001b[0;34m\u001b[0m\u001b[0m\n",
      "\u001b[0;31mKeyboardInterrupt\u001b[0m: "
     ]
    }
   ],
   "source": [
    "# Create and define a function - Key_Stats, Value is the name taken that need from the files that are being used as datasets\n",
    "def Key_Stats(gather=\"Total Debt/Equity (mrq)\"): \n",
    "    \n",
    "    # To reach the _KeyStats files in the directory at selected path\n",
    "    statspath = path+'/_KeyStats' \n",
    "    \n",
    "    # This will read and store all the folders to 1 level inside _KeyStats and store in Stocks_list\n",
    "    stocks_list = [x[0] for x in os.walk(statspath)] \n",
    "    \n",
    "    # Check each file in all the directories inside stocks_list\n",
    "    for each_dir in stocks_list[1:]:\n",
    "        each_file = os.listdir(each_dir) \n",
    "        \n",
    "        # Ticker means the stock name of the ORG. This will get the ticker out from the file name of sourcecode directory.\n",
    "        ticker = each_dir.split(\"/\")[-1]\n",
    "        if len(each_file) > 0:\n",
    "            \n",
    "            # Below is the logic to convert the unix timestamp (used as file names in directories), to date timestamps\n",
    "            for file in each_file: \n",
    "                \n",
    "                # This is to define the datetime format as the name of the file in the directory.\n",
    "                date_stamp = datetime.strptime(file, '%Y%m%d%H%M%S.html') \n",
    "                \n",
    "                # Defines the unix_time format.\n",
    "                unix_time = time.mktime(date_stamp.timetuple())\n",
    "\n",
    "                full_file_path = each_dir+'/'+file\n",
    "                print(full_file_path)\n",
    "                \n",
    "                # This puts the whole content of the file in the variable \"soruce\"\n",
    "                source = open(full_file_path,'r').read()\n",
    "    \n",
    "                # To read the value of Total Debt/Equity (mrq) from each_file and fetch from all the files using \"split\".\n",
    "                value = source.split(gather+':</td>')\n",
    "                \n",
    "                # Below mentioned code is to read from the HTML file by handling certain conditions for HTML markup elements in different html files\n",
    "                if(len(value)==1):\n",
    "                    value  = value[0].split(gather + '</th>')\n",
    "                    if(len(value)==1):\n",
    "                        print(filePath)\n",
    "                        continue\n",
    "                value  = value[1]\n",
    "                if(value.startswith('\\n')):\n",
    "                    value = value.split('\\n<td class=\"yfnc_tabledata1\">')[1].split('</td>')[0]     \n",
    "                else:\n",
    "                    value = value.split('<td class=\"yfnc_tabledata1\">')[1].split('</td>')[0]\n",
    "            \n",
    "                print(ticker+\":\",value)\n",
    "                \n",
    "                # To put the code in sleep mode before running the loop.\n",
    "                time.sleep(5)\n",
    "Key_Stats()"
   ]
  },
  {
   "cell_type": "code",
   "execution_count": null,
   "metadata": {},
   "outputs": [],
   "source": []
  }
 ],
 "metadata": {
  "kernelspec": {
   "display_name": "Python 3",
   "language": "python",
   "name": "python3"
  },
  "language_info": {
   "codemirror_mode": {
    "name": "ipython",
    "version": 3
   },
   "file_extension": ".py",
   "mimetype": "text/x-python",
   "name": "python",
   "nbconvert_exporter": "python",
   "pygments_lexer": "ipython3",
   "version": "3.6.5"
  }
 },
 "nbformat": 4,
 "nbformat_minor": 2
}
